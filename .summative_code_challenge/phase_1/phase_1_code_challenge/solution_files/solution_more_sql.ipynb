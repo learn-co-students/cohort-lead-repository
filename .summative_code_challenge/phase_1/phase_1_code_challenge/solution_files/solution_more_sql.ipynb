{
 "cells": [
  {
   "cell_type": "markdown",
   "metadata": {},
   "source": [
    "# Mod 1 Code Challenge: Pokemon Items\n",
    "\n",
    "In this version of the solution, the filtering, calculating, ordering, limiting to top 7 are all done in SQL"
   ]
  },
  {
   "cell_type": "code",
   "execution_count": 1,
   "metadata": {},
   "outputs": [],
   "source": [
    "import sqlite3\n",
    "import pandas as pd\n",
    "import numpy as np\n",
    "import matplotlib.pyplot as plt\n",
    "import requests"
   ]
  },
  {
   "cell_type": "code",
   "execution_count": 2,
   "metadata": {},
   "outputs": [],
   "source": [
    "conn = sqlite3.connect(\"pokemon.db\")"
   ]
  },
  {
   "cell_type": "code",
   "execution_count": 3,
   "metadata": {},
   "outputs": [],
   "source": [
    "sql_query = \"\"\"\n",
    "SELECT *, fling_power / cost AS power_per_cost FROM items\n",
    "WHERE fling_power IS NOT NULL\n",
    "ORDER BY power_per_cost DESC\n",
    "LIMIT 7;\n",
    "\"\"\""
   ]
  },
  {
   "cell_type": "code",
   "execution_count": 4,
   "metadata": {},
   "outputs": [],
   "source": [
    "top_7_items = pd.read_sql(sql_query, conn)"
   ]
  },
  {
   "cell_type": "code",
   "execution_count": 5,
   "metadata": {},
   "outputs": [],
   "source": [
    "conn.close()"
   ]
  },
  {
   "cell_type": "markdown",
   "metadata": {},
   "source": [
    "## Exploratory Data Analysis"
   ]
  },
  {
   "cell_type": "code",
   "execution_count": 6,
   "metadata": {},
   "outputs": [
    {
     "data": {
      "text/html": [
       "<div>\n",
       "<style scoped>\n",
       "    .dataframe tbody tr th:only-of-type {\n",
       "        vertical-align: middle;\n",
       "    }\n",
       "\n",
       "    .dataframe tbody tr th {\n",
       "        vertical-align: top;\n",
       "    }\n",
       "\n",
       "    .dataframe thead th {\n",
       "        text-align: right;\n",
       "    }\n",
       "</style>\n",
       "<table border=\"1\" class=\"dataframe\">\n",
       "  <thead>\n",
       "    <tr style=\"text-align: right;\">\n",
       "      <th></th>\n",
       "      <th>name</th>\n",
       "      <th>cost</th>\n",
       "      <th>fling_power</th>\n",
       "      <th>category</th>\n",
       "      <th>image_url</th>\n",
       "      <th>api_id</th>\n",
       "      <th>power_per_cost</th>\n",
       "    </tr>\n",
       "  </thead>\n",
       "  <tbody>\n",
       "    <tr>\n",
       "      <th>0</th>\n",
       "      <td>cheri-berry</td>\n",
       "      <td>20</td>\n",
       "      <td>10.0</td>\n",
       "      <td>medicine</td>\n",
       "      <td>https://raw.githubusercontent.com/PokeAPI/spri...</td>\n",
       "      <td>126</td>\n",
       "      <td>0.500000</td>\n",
       "    </tr>\n",
       "    <tr>\n",
       "      <th>1</th>\n",
       "      <td>poison-barb</td>\n",
       "      <td>1000</td>\n",
       "      <td>70.0</td>\n",
       "      <td>type-enhancement</td>\n",
       "      <td>https://raw.githubusercontent.com/PokeAPI/spri...</td>\n",
       "      <td>222</td>\n",
       "      <td>0.070000</td>\n",
       "    </tr>\n",
       "    <tr>\n",
       "      <th>2</th>\n",
       "      <td>deep-sea-tooth</td>\n",
       "      <td>2000</td>\n",
       "      <td>90.0</td>\n",
       "      <td>species-specific</td>\n",
       "      <td>https://raw.githubusercontent.com/PokeAPI/spri...</td>\n",
       "      <td>203</td>\n",
       "      <td>0.045000</td>\n",
       "    </tr>\n",
       "    <tr>\n",
       "      <th>3</th>\n",
       "      <td>super-potion</td>\n",
       "      <td>700</td>\n",
       "      <td>30.0</td>\n",
       "      <td>healing</td>\n",
       "      <td>https://raw.githubusercontent.com/PokeAPI/spri...</td>\n",
       "      <td>26</td>\n",
       "      <td>0.042857</td>\n",
       "    </tr>\n",
       "    <tr>\n",
       "      <th>4</th>\n",
       "      <td>super-repel</td>\n",
       "      <td>700</td>\n",
       "      <td>30.0</td>\n",
       "      <td>spelunking</td>\n",
       "      <td>https://raw.githubusercontent.com/PokeAPI/spri...</td>\n",
       "      <td>76</td>\n",
       "      <td>0.042857</td>\n",
       "    </tr>\n",
       "    <tr>\n",
       "      <th>5</th>\n",
       "      <td>oval-stone</td>\n",
       "      <td>2000</td>\n",
       "      <td>80.0</td>\n",
       "      <td>evolution</td>\n",
       "      <td>https://raw.githubusercontent.com/PokeAPI/spri...</td>\n",
       "      <td>110</td>\n",
       "      <td>0.040000</td>\n",
       "    </tr>\n",
       "    <tr>\n",
       "      <th>6</th>\n",
       "      <td>lucky-punch</td>\n",
       "      <td>1000</td>\n",
       "      <td>40.0</td>\n",
       "      <td>species-specific</td>\n",
       "      <td>https://raw.githubusercontent.com/PokeAPI/spri...</td>\n",
       "      <td>233</td>\n",
       "      <td>0.040000</td>\n",
       "    </tr>\n",
       "  </tbody>\n",
       "</table>\n",
       "</div>"
      ],
      "text/plain": [
       "             name  cost  fling_power          category  \\\n",
       "0     cheri-berry    20         10.0          medicine   \n",
       "1     poison-barb  1000         70.0  type-enhancement   \n",
       "2  deep-sea-tooth  2000         90.0  species-specific   \n",
       "3    super-potion   700         30.0           healing   \n",
       "4     super-repel   700         30.0        spelunking   \n",
       "5      oval-stone  2000         80.0         evolution   \n",
       "6     lucky-punch  1000         40.0  species-specific   \n",
       "\n",
       "                                           image_url  api_id  power_per_cost  \n",
       "0  https://raw.githubusercontent.com/PokeAPI/spri...     126        0.500000  \n",
       "1  https://raw.githubusercontent.com/PokeAPI/spri...     222        0.070000  \n",
       "2  https://raw.githubusercontent.com/PokeAPI/spri...     203        0.045000  \n",
       "3  https://raw.githubusercontent.com/PokeAPI/spri...      26        0.042857  \n",
       "4  https://raw.githubusercontent.com/PokeAPI/spri...      76        0.042857  \n",
       "5  https://raw.githubusercontent.com/PokeAPI/spri...     110        0.040000  \n",
       "6  https://raw.githubusercontent.com/PokeAPI/spri...     233        0.040000  "
      ]
     },
     "execution_count": 6,
     "metadata": {},
     "output_type": "execute_result"
    }
   ],
   "source": [
    "top_7_items"
   ]
  },
  {
   "cell_type": "code",
   "execution_count": 7,
   "metadata": {},
   "outputs": [
    {
     "data": {
      "image/png": "[encoded data removed]",
      "text/plain": [
       "<Figure size 432x288 with 1 Axes>"
      ]
     },
     "metadata": {
      "needs_background": "light"
     },
     "output_type": "display_data"
    }
   ],
   "source": [
    "fig, ax = plt.subplots()\n",
    "plt.xticks(rotation=45)\n",
    "\n",
    "ax.bar(top_7_items[\"name\"], top_7_items[\"cost\"])\n",
    "ax.set_ylabel(\"cost\")\n",
    "ax.set_title(\"Cost for Seven Items with Highest Fling Power per Cost\");"
   ]
  },
  {
   "cell_type": "markdown",
   "metadata": {},
   "source": [
    "## Decision Support\n",
    "\n",
    "I choose the `cheri-berry` item because it has the highest `power_per_cost` and also has a significantly lower cost than the other items with high `power_per_cost`.  The bar chart helps to show how much lower the cost of this item (20) is than the cost of the others (700 or more)."
   ]
  },
  {
   "cell_type": "markdown",
   "metadata": {},
   "source": [
    "## Additional Data Collection"
   ]
  },
  {
   "cell_type": "code",
   "execution_count": 8,
   "metadata": {},
   "outputs": [],
   "source": [
    "URL = \"https://pokeapi.co/api/v2/item/126\""
   ]
  },
  {
   "cell_type": "code",
   "execution_count": 9,
   "metadata": {},
   "outputs": [
    {
     "data": {
      "text/plain": [
       "<Response [200]>"
      ]
     },
     "execution_count": 9,
     "metadata": {},
     "output_type": "execute_result"
    }
   ],
   "source": [
    "response = requests.get(URL)\n",
    "response"
   ]
  },
  {
   "cell_type": "code",
   "execution_count": 10,
   "metadata": {},
   "outputs": [],
   "source": [
    "response_json = response.json()"
   ]
  },
  {
   "cell_type": "code",
   "execution_count": 11,
   "metadata": {},
   "outputs": [
    {
     "data": {
      "text/plain": [
       "{'name': 'berry-effect',\n",
       " 'url': 'https://pokeapi.co/api/v2/item-fling-effect/3/'}"
      ]
     },
     "execution_count": 11,
     "metadata": {},
     "output_type": "execute_result"
    }
   ],
   "source": [
    "response_json['fling_effect']"
   ]
  },
  {
   "cell_type": "markdown",
   "metadata": {},
   "source": [
    "The fling effect of my chosen item is a berry effect"
   ]
  },
  {
   "cell_type": "markdown",
   "metadata": {},
   "source": [
    "## Bonus"
   ]
  },
  {
   "cell_type": "code",
   "execution_count": 12,
   "metadata": {},
   "outputs": [
    {
     "data": {
      "text/plain": [
       "<Response [200]>"
      ]
     },
     "execution_count": 12,
     "metadata": {},
     "output_type": "execute_result"
    }
   ],
   "source": [
    "item_effect_response = requests.get(response_json['fling_effect']['url'])\n",
    "item_effect_response"
   ]
  },
  {
   "cell_type": "code",
   "execution_count": 13,
   "metadata": {},
   "outputs": [
    {
     "data": {
      "text/plain": [
       "{'effect_entries': [{'effect': \"Immediately activates the berry's effect on the target.\",\n",
       "   'language': {'name': 'en',\n",
       "    'url': 'https://pokeapi.co/api/v2/language/9/'}}],\n",
       " 'id': 3,\n",
       " 'items': [{'name': 'cheri-berry',\n",
       "   'url': 'https://pokeapi.co/api/v2/item/126/'},\n",
       "  {'name': 'chesto-berry', 'url': 'https://pokeapi.co/api/v2/item/127/'},\n",
       "  {'name': 'pecha-berry', 'url': 'https://pokeapi.co/api/v2/item/128/'},\n",
       "  {'name': 'rawst-berry', 'url': 'https://pokeapi.co/api/v2/item/129/'},\n",
       "  {'name': 'aspear-berry', 'url': 'https://pokeapi.co/api/v2/item/130/'},\n",
       "  {'name': 'leppa-berry', 'url': 'https://pokeapi.co/api/v2/item/131/'},\n",
       "  {'name': 'oran-berry', 'url': 'https://pokeapi.co/api/v2/item/132/'},\n",
       "  {'name': 'persim-berry', 'url': 'https://pokeapi.co/api/v2/item/133/'},\n",
       "  {'name': 'lum-berry', 'url': 'https://pokeapi.co/api/v2/item/134/'},\n",
       "  {'name': 'sitrus-berry', 'url': 'https://pokeapi.co/api/v2/item/135/'},\n",
       "  {'name': 'figy-berry', 'url': 'https://pokeapi.co/api/v2/item/136/'},\n",
       "  {'name': 'wiki-berry', 'url': 'https://pokeapi.co/api/v2/item/137/'},\n",
       "  {'name': 'mago-berry', 'url': 'https://pokeapi.co/api/v2/item/138/'},\n",
       "  {'name': 'aguav-berry', 'url': 'https://pokeapi.co/api/v2/item/139/'},\n",
       "  {'name': 'iapapa-berry', 'url': 'https://pokeapi.co/api/v2/item/140/'},\n",
       "  {'name': 'liechi-berry', 'url': 'https://pokeapi.co/api/v2/item/178/'},\n",
       "  {'name': 'ganlon-berry', 'url': 'https://pokeapi.co/api/v2/item/179/'},\n",
       "  {'name': 'salac-berry', 'url': 'https://pokeapi.co/api/v2/item/180/'},\n",
       "  {'name': 'petaya-berry', 'url': 'https://pokeapi.co/api/v2/item/181/'},\n",
       "  {'name': 'apicot-berry', 'url': 'https://pokeapi.co/api/v2/item/182/'},\n",
       "  {'name': 'lansat-berry', 'url': 'https://pokeapi.co/api/v2/item/183/'},\n",
       "  {'name': 'starf-berry', 'url': 'https://pokeapi.co/api/v2/item/184/'},\n",
       "  {'name': 'micle-berry', 'url': 'https://pokeapi.co/api/v2/item/186/'}],\n",
       " 'name': 'berry-effect'}"
      ]
     },
     "execution_count": 13,
     "metadata": {},
     "output_type": "execute_result"
    }
   ],
   "source": [
    "item_effect_response_json = item_effect_response.json()\n",
    "item_effect_response_json"
   ]
  },
  {
   "cell_type": "code",
   "execution_count": 14,
   "metadata": {},
   "outputs": [
    {
     "data": {
      "text/plain": [
       "{'effect': \"Immediately activates the berry's effect on the target.\",\n",
       " 'language': {'name': 'en', 'url': 'https://pokeapi.co/api/v2/language/9/'}}"
      ]
     },
     "execution_count": 14,
     "metadata": {},
     "output_type": "execute_result"
    }
   ],
   "source": [
    "item_effect_response_json['effect_entries'][0]"
   ]
  },
  {
   "cell_type": "code",
   "execution_count": 15,
   "metadata": {},
   "outputs": [
    {
     "data": {
      "text/plain": [
       "\"Immediately activates the berry's effect on the target.\""
      ]
     },
     "execution_count": 15,
     "metadata": {},
     "output_type": "execute_result"
    }
   ],
   "source": [
    "item_effect_response_json['effect_entries'][0]['effect']"
   ]
  },
  {
   "cell_type": "code",
   "execution_count": null,
   "metadata": {},
   "outputs": [],
   "source": []
  }
 ],
 "metadata": {
  "kernelspec": {
   "display_name": "Python 3 (prework-labs)",
   "language": "python",
   "name": "prework-labs"
  },
  "language_info": {
   "codemirror_mode": {
    "name": "ipython",
    "version": 3
   },
   "file_extension": ".py",
   "mimetype": "text/x-python",
   "name": "python",
   "nbconvert_exporter": "python",
   "pygments_lexer": "ipython3",
   "version": "3.7.3"
  }
 },
 "nbformat": 4,
 "nbformat_minor": 4
}
