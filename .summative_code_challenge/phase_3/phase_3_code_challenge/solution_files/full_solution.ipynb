{
 "cells": [
  {
   "cell_type": "markdown",
   "metadata": {},
   "source": [
    "# Mod 3 Code Challenge: Quality Assurance\n",
    "\n",
    "The following analysis is intended to help a manufacturer avoid sending flawed parts to its customers.  They have provided a CSV dataset with past information about parts that have been flawed as well as parts that have not been flawed."
   ]
  },
  {
   "cell_type": "code",
   "execution_count": 54,
   "metadata": {},
   "outputs": [],
   "source": [
    "import pandas as pd\n",
    "from sklearn.model_selection import train_test_split, cross_val_score\n",
    "from sklearn.impute import SimpleImputer\n",
    "from sklearn.preprocessing import StandardScaler\n",
    "from sklearn.linear_model import LogisticRegression\n",
    "from sklearn.metrics import make_scorer, f1_score, plot_confusion_matrix, confusion_matrix, recall_score\n",
    "from sklearn.ensemble import RandomForestClassifier\n",
    "from sklearn.neighbors import KNeighborsClassifier"
   ]
  },
  {
   "cell_type": "code",
   "execution_count": 55,
   "metadata": {},
   "outputs": [],
   "source": [
    "df = pd.read_csv(\"quality_assurance.csv\")"
   ]
  },
  {
   "cell_type": "code",
   "execution_count": 56,
   "metadata": {},
   "outputs": [
    {
     "data": {
      "text/html": [
       "<div>\n",
       "<style scoped>\n",
       "    .dataframe tbody tr th:only-of-type {\n",
       "        vertical-align: middle;\n",
       "    }\n",
       "\n",
       "    .dataframe tbody tr th {\n",
       "        vertical-align: top;\n",
       "    }\n",
       "\n",
       "    .dataframe thead th {\n",
       "        text-align: right;\n",
       "    }\n",
       "</style>\n",
       "<table border=\"1\" class=\"dataframe\">\n",
       "  <thead>\n",
       "    <tr style=\"text-align: right;\">\n",
       "      <th></th>\n",
       "      <th>flawed</th>\n",
       "      <th>A</th>\n",
       "      <th>B</th>\n",
       "      <th>C</th>\n",
       "      <th>D</th>\n",
       "      <th>E</th>\n",
       "      <th>F</th>\n",
       "      <th>G</th>\n",
       "      <th>H</th>\n",
       "      <th>I</th>\n",
       "      <th>...</th>\n",
       "      <th>Q</th>\n",
       "      <th>R</th>\n",
       "      <th>S</th>\n",
       "      <th>T</th>\n",
       "      <th>U</th>\n",
       "      <th>V</th>\n",
       "      <th>W</th>\n",
       "      <th>X</th>\n",
       "      <th>Y</th>\n",
       "      <th>Z</th>\n",
       "    </tr>\n",
       "  </thead>\n",
       "  <tbody>\n",
       "    <tr>\n",
       "      <th>0</th>\n",
       "      <td>0</td>\n",
       "      <td>0.601453</td>\n",
       "      <td>0.517830</td>\n",
       "      <td>0.643975</td>\n",
       "      <td>0.640322</td>\n",
       "      <td>5269</td>\n",
       "      <td>3596.240435</td>\n",
       "      <td>7.582301</td>\n",
       "      <td>5.036856</td>\n",
       "      <td>6</td>\n",
       "      <td>...</td>\n",
       "      <td>13</td>\n",
       "      <td>27</td>\n",
       "      <td>49</td>\n",
       "      <td>99</td>\n",
       "      <td>88</td>\n",
       "      <td>67</td>\n",
       "      <td>28</td>\n",
       "      <td>1486.086217</td>\n",
       "      <td>221.448720</td>\n",
       "      <td>914.016198</td>\n",
       "    </tr>\n",
       "    <tr>\n",
       "      <th>1</th>\n",
       "      <td>0</td>\n",
       "      <td>0.658969</td>\n",
       "      <td>0.381051</td>\n",
       "      <td>0.711291</td>\n",
       "      <td>0.622806</td>\n",
       "      <td>2529</td>\n",
       "      <td>3915.484661</td>\n",
       "      <td>6.889634</td>\n",
       "      <td>5.463186</td>\n",
       "      <td>5</td>\n",
       "      <td>...</td>\n",
       "      <td>3</td>\n",
       "      <td>25</td>\n",
       "      <td>66</td>\n",
       "      <td>93</td>\n",
       "      <td>5</td>\n",
       "      <td>84</td>\n",
       "      <td>7</td>\n",
       "      <td>1041.388025</td>\n",
       "      <td>1012.210842</td>\n",
       "      <td>736.427250</td>\n",
       "    </tr>\n",
       "    <tr>\n",
       "      <th>2</th>\n",
       "      <td>0</td>\n",
       "      <td>0.829151</td>\n",
       "      <td>0.482311</td>\n",
       "      <td>0.695828</td>\n",
       "      <td>0.501425</td>\n",
       "      <td>3466</td>\n",
       "      <td>4938.989252</td>\n",
       "      <td>5.357629</td>\n",
       "      <td>8.479336</td>\n",
       "      <td>5</td>\n",
       "      <td>...</td>\n",
       "      <td>95</td>\n",
       "      <td>0</td>\n",
       "      <td>14</td>\n",
       "      <td>67</td>\n",
       "      <td>97</td>\n",
       "      <td>84</td>\n",
       "      <td>40</td>\n",
       "      <td>1080.024168</td>\n",
       "      <td>1177.252577</td>\n",
       "      <td>1350.203054</td>\n",
       "    </tr>\n",
       "    <tr>\n",
       "      <th>3</th>\n",
       "      <td>0</td>\n",
       "      <td>0.427164</td>\n",
       "      <td>0.302467</td>\n",
       "      <td>0.755639</td>\n",
       "      <td>0.623017</td>\n",
       "      <td>4637</td>\n",
       "      <td>5132.544164</td>\n",
       "      <td>4.607738</td>\n",
       "      <td>6.512086</td>\n",
       "      <td>4</td>\n",
       "      <td>...</td>\n",
       "      <td>58</td>\n",
       "      <td>56</td>\n",
       "      <td>39</td>\n",
       "      <td>3</td>\n",
       "      <td>19</td>\n",
       "      <td>36</td>\n",
       "      <td>37</td>\n",
       "      <td>558.167997</td>\n",
       "      <td>1426.797103</td>\n",
       "      <td>497.986919</td>\n",
       "    </tr>\n",
       "    <tr>\n",
       "      <th>4</th>\n",
       "      <td>0</td>\n",
       "      <td>0.455892</td>\n",
       "      <td>0.511045</td>\n",
       "      <td>0.834741</td>\n",
       "      <td>0.746559</td>\n",
       "      <td>2283</td>\n",
       "      <td>5652.261077</td>\n",
       "      <td>5.092637</td>\n",
       "      <td>5.744862</td>\n",
       "      <td>4</td>\n",
       "      <td>...</td>\n",
       "      <td>18</td>\n",
       "      <td>6</td>\n",
       "      <td>49</td>\n",
       "      <td>14</td>\n",
       "      <td>4</td>\n",
       "      <td>81</td>\n",
       "      <td>30</td>\n",
       "      <td>244.940104</td>\n",
       "      <td>1090.685747</td>\n",
       "      <td>178.180980</td>\n",
       "    </tr>\n",
       "  </tbody>\n",
       "</table>\n",
       "<p>5 rows × 27 columns</p>\n",
       "</div>"
      ],
      "text/plain": [
       "   flawed         A         B         C         D     E            F  \\\n",
       "0       0  0.601453  0.517830  0.643975  0.640322  5269  3596.240435   \n",
       "1       0  0.658969  0.381051  0.711291  0.622806  2529  3915.484661   \n",
       "2       0  0.829151  0.482311  0.695828  0.501425  3466  4938.989252   \n",
       "3       0  0.427164  0.302467  0.755639  0.623017  4637  5132.544164   \n",
       "4       0  0.455892  0.511045  0.834741  0.746559  2283  5652.261077   \n",
       "\n",
       "          G         H  I  ...   Q   R   S   T   U   V   W            X  \\\n",
       "0  7.582301  5.036856  6  ...  13  27  49  99  88  67  28  1486.086217   \n",
       "1  6.889634  5.463186  5  ...   3  25  66  93   5  84   7  1041.388025   \n",
       "2  5.357629  8.479336  5  ...  95   0  14  67  97  84  40  1080.024168   \n",
       "3  4.607738  6.512086  4  ...  58  56  39   3  19  36  37   558.167997   \n",
       "4  5.092637  5.744862  4  ...  18   6  49  14   4  81  30   244.940104   \n",
       "\n",
       "             Y            Z  \n",
       "0   221.448720   914.016198  \n",
       "1  1012.210842   736.427250  \n",
       "2  1177.252577  1350.203054  \n",
       "3  1426.797103   497.986919  \n",
       "4  1090.685747   178.180980  \n",
       "\n",
       "[5 rows x 27 columns]"
      ]
     },
     "execution_count": 56,
     "metadata": {},
     "output_type": "execute_result"
    }
   ],
   "source": [
    "df.head()"
   ]
  },
  {
   "cell_type": "code",
   "execution_count": 57,
   "metadata": {},
   "outputs": [
    {
     "data": {
      "text/html": [
       "<div>\n",
       "<style scoped>\n",
       "    .dataframe tbody tr th:only-of-type {\n",
       "        vertical-align: middle;\n",
       "    }\n",
       "\n",
       "    .dataframe tbody tr th {\n",
       "        vertical-align: top;\n",
       "    }\n",
       "\n",
       "    .dataframe thead th {\n",
       "        text-align: right;\n",
       "    }\n",
       "</style>\n",
       "<table border=\"1\" class=\"dataframe\">\n",
       "  <thead>\n",
       "    <tr style=\"text-align: right;\">\n",
       "      <th></th>\n",
       "      <th>flawed</th>\n",
       "      <th>A</th>\n",
       "      <th>B</th>\n",
       "      <th>C</th>\n",
       "      <th>D</th>\n",
       "      <th>E</th>\n",
       "      <th>F</th>\n",
       "      <th>G</th>\n",
       "      <th>H</th>\n",
       "      <th>I</th>\n",
       "      <th>...</th>\n",
       "      <th>Q</th>\n",
       "      <th>R</th>\n",
       "      <th>S</th>\n",
       "      <th>T</th>\n",
       "      <th>U</th>\n",
       "      <th>V</th>\n",
       "      <th>W</th>\n",
       "      <th>X</th>\n",
       "      <th>Y</th>\n",
       "      <th>Z</th>\n",
       "    </tr>\n",
       "  </thead>\n",
       "  <tbody>\n",
       "    <tr>\n",
       "      <th>count</th>\n",
       "      <td>500.000000</td>\n",
       "      <td>500.000000</td>\n",
       "      <td>475.000000</td>\n",
       "      <td>500.000000</td>\n",
       "      <td>500.000000</td>\n",
       "      <td>500.000000</td>\n",
       "      <td>500.000000</td>\n",
       "      <td>500.000000</td>\n",
       "      <td>500.000000</td>\n",
       "      <td>500.000000</td>\n",
       "      <td>...</td>\n",
       "      <td>500.000000</td>\n",
       "      <td>500.000000</td>\n",
       "      <td>500.000000</td>\n",
       "      <td>500.000000</td>\n",
       "      <td>500.00000</td>\n",
       "      <td>500.000000</td>\n",
       "      <td>500.000000</td>\n",
       "      <td>500.000000</td>\n",
       "      <td>500.000000</td>\n",
       "      <td>500.000000</td>\n",
       "    </tr>\n",
       "    <tr>\n",
       "      <th>mean</th>\n",
       "      <td>0.208000</td>\n",
       "      <td>0.537038</td>\n",
       "      <td>0.424720</td>\n",
       "      <td>0.460606</td>\n",
       "      <td>0.520968</td>\n",
       "      <td>4878.526000</td>\n",
       "      <td>4838.623566</td>\n",
       "      <td>5.574845</td>\n",
       "      <td>5.802130</td>\n",
       "      <td>3.738000</td>\n",
       "      <td>...</td>\n",
       "      <td>49.540000</td>\n",
       "      <td>49.050000</td>\n",
       "      <td>48.224000</td>\n",
       "      <td>48.838000</td>\n",
       "      <td>50.88800</td>\n",
       "      <td>51.240000</td>\n",
       "      <td>48.508000</td>\n",
       "      <td>735.158720</td>\n",
       "      <td>743.363251</td>\n",
       "      <td>746.718788</td>\n",
       "    </tr>\n",
       "    <tr>\n",
       "      <th>std</th>\n",
       "      <td>0.406283</td>\n",
       "      <td>0.146943</td>\n",
       "      <td>0.146579</td>\n",
       "      <td>0.193812</td>\n",
       "      <td>0.169511</td>\n",
       "      <td>1761.392433</td>\n",
       "      <td>1719.163590</td>\n",
       "      <td>1.587353</td>\n",
       "      <td>1.431474</td>\n",
       "      <td>1.737641</td>\n",
       "      <td>...</td>\n",
       "      <td>29.135858</td>\n",
       "      <td>29.475568</td>\n",
       "      <td>28.119161</td>\n",
       "      <td>28.799002</td>\n",
       "      <td>29.60724</td>\n",
       "      <td>28.610199</td>\n",
       "      <td>30.109585</td>\n",
       "      <td>428.418133</td>\n",
       "      <td>439.706532</td>\n",
       "      <td>417.469840</td>\n",
       "    </tr>\n",
       "    <tr>\n",
       "      <th>min</th>\n",
       "      <td>0.000000</td>\n",
       "      <td>0.000000</td>\n",
       "      <td>0.000000</td>\n",
       "      <td>0.000000</td>\n",
       "      <td>0.000000</td>\n",
       "      <td>0.000000</td>\n",
       "      <td>0.000000</td>\n",
       "      <td>0.000000</td>\n",
       "      <td>0.000000</td>\n",
       "      <td>0.000000</td>\n",
       "      <td>...</td>\n",
       "      <td>0.000000</td>\n",
       "      <td>0.000000</td>\n",
       "      <td>0.000000</td>\n",
       "      <td>0.000000</td>\n",
       "      <td>0.00000</td>\n",
       "      <td>0.000000</td>\n",
       "      <td>0.000000</td>\n",
       "      <td>0.311943</td>\n",
       "      <td>0.474553</td>\n",
       "      <td>3.113954</td>\n",
       "    </tr>\n",
       "    <tr>\n",
       "      <th>25%</th>\n",
       "      <td>0.000000</td>\n",
       "      <td>0.447413</td>\n",
       "      <td>0.328684</td>\n",
       "      <td>0.313340</td>\n",
       "      <td>0.419994</td>\n",
       "      <td>3778.250000</td>\n",
       "      <td>3570.091136</td>\n",
       "      <td>4.605696</td>\n",
       "      <td>4.991045</td>\n",
       "      <td>3.000000</td>\n",
       "      <td>...</td>\n",
       "      <td>23.000000</td>\n",
       "      <td>23.000000</td>\n",
       "      <td>24.000000</td>\n",
       "      <td>24.000000</td>\n",
       "      <td>24.75000</td>\n",
       "      <td>27.000000</td>\n",
       "      <td>22.000000</td>\n",
       "      <td>358.761812</td>\n",
       "      <td>369.037255</td>\n",
       "      <td>403.933511</td>\n",
       "    </tr>\n",
       "    <tr>\n",
       "      <th>50%</th>\n",
       "      <td>0.000000</td>\n",
       "      <td>0.535245</td>\n",
       "      <td>0.427028</td>\n",
       "      <td>0.451957</td>\n",
       "      <td>0.530447</td>\n",
       "      <td>4847.500000</td>\n",
       "      <td>4812.028743</td>\n",
       "      <td>5.672153</td>\n",
       "      <td>5.859914</td>\n",
       "      <td>4.000000</td>\n",
       "      <td>...</td>\n",
       "      <td>52.000000</td>\n",
       "      <td>47.000000</td>\n",
       "      <td>47.000000</td>\n",
       "      <td>49.000000</td>\n",
       "      <td>52.00000</td>\n",
       "      <td>50.000000</td>\n",
       "      <td>47.000000</td>\n",
       "      <td>750.787234</td>\n",
       "      <td>719.556908</td>\n",
       "      <td>737.401755</td>\n",
       "    </tr>\n",
       "    <tr>\n",
       "      <th>75%</th>\n",
       "      <td>0.000000</td>\n",
       "      <td>0.629977</td>\n",
       "      <td>0.520857</td>\n",
       "      <td>0.611244</td>\n",
       "      <td>0.638043</td>\n",
       "      <td>5905.750000</td>\n",
       "      <td>5952.097299</td>\n",
       "      <td>6.588030</td>\n",
       "      <td>6.747137</td>\n",
       "      <td>5.000000</td>\n",
       "      <td>...</td>\n",
       "      <td>74.000000</td>\n",
       "      <td>77.000000</td>\n",
       "      <td>69.250000</td>\n",
       "      <td>74.000000</td>\n",
       "      <td>77.00000</td>\n",
       "      <td>77.000000</td>\n",
       "      <td>76.000000</td>\n",
       "      <td>1092.726302</td>\n",
       "      <td>1133.751316</td>\n",
       "      <td>1090.111319</td>\n",
       "    </tr>\n",
       "    <tr>\n",
       "      <th>max</th>\n",
       "      <td>1.000000</td>\n",
       "      <td>1.000000</td>\n",
       "      <td>1.000000</td>\n",
       "      <td>1.000000</td>\n",
       "      <td>1.000000</td>\n",
       "      <td>10000.000000</td>\n",
       "      <td>10000.000000</td>\n",
       "      <td>10.000000</td>\n",
       "      <td>10.000000</td>\n",
       "      <td>10.000000</td>\n",
       "      <td>...</td>\n",
       "      <td>99.000000</td>\n",
       "      <td>99.000000</td>\n",
       "      <td>99.000000</td>\n",
       "      <td>99.000000</td>\n",
       "      <td>99.00000</td>\n",
       "      <td>99.000000</td>\n",
       "      <td>99.000000</td>\n",
       "      <td>1499.126271</td>\n",
       "      <td>1495.460940</td>\n",
       "      <td>1496.597411</td>\n",
       "    </tr>\n",
       "  </tbody>\n",
       "</table>\n",
       "<p>8 rows × 27 columns</p>\n",
       "</div>"
      ],
      "text/plain": [
       "           flawed           A           B           C           D  \\\n",
       "count  500.000000  500.000000  475.000000  500.000000  500.000000   \n",
       "mean     0.208000    0.537038    0.424720    0.460606    0.520968   \n",
       "std      0.406283    0.146943    0.146579    0.193812    0.169511   \n",
       "min      0.000000    0.000000    0.000000    0.000000    0.000000   \n",
       "25%      0.000000    0.447413    0.328684    0.313340    0.419994   \n",
       "50%      0.000000    0.535245    0.427028    0.451957    0.530447   \n",
       "75%      0.000000    0.629977    0.520857    0.611244    0.638043   \n",
       "max      1.000000    1.000000    1.000000    1.000000    1.000000   \n",
       "\n",
       "                  E             F           G           H           I  ...  \\\n",
       "count    500.000000    500.000000  500.000000  500.000000  500.000000  ...   \n",
       "mean    4878.526000   4838.623566    5.574845    5.802130    3.738000  ...   \n",
       "std     1761.392433   1719.163590    1.587353    1.431474    1.737641  ...   \n",
       "min        0.000000      0.000000    0.000000    0.000000    0.000000  ...   \n",
       "25%     3778.250000   3570.091136    4.605696    4.991045    3.000000  ...   \n",
       "50%     4847.500000   4812.028743    5.672153    5.859914    4.000000  ...   \n",
       "75%     5905.750000   5952.097299    6.588030    6.747137    5.000000  ...   \n",
       "max    10000.000000  10000.000000   10.000000   10.000000   10.000000  ...   \n",
       "\n",
       "                Q           R           S           T          U           V  \\\n",
       "count  500.000000  500.000000  500.000000  500.000000  500.00000  500.000000   \n",
       "mean    49.540000   49.050000   48.224000   48.838000   50.88800   51.240000   \n",
       "std     29.135858   29.475568   28.119161   28.799002   29.60724   28.610199   \n",
       "min      0.000000    0.000000    0.000000    0.000000    0.00000    0.000000   \n",
       "25%     23.000000   23.000000   24.000000   24.000000   24.75000   27.000000   \n",
       "50%     52.000000   47.000000   47.000000   49.000000   52.00000   50.000000   \n",
       "75%     74.000000   77.000000   69.250000   74.000000   77.00000   77.000000   \n",
       "max     99.000000   99.000000   99.000000   99.000000   99.00000   99.000000   \n",
       "\n",
       "                W            X            Y            Z  \n",
       "count  500.000000   500.000000   500.000000   500.000000  \n",
       "mean    48.508000   735.158720   743.363251   746.718788  \n",
       "std     30.109585   428.418133   439.706532   417.469840  \n",
       "min      0.000000     0.311943     0.474553     3.113954  \n",
       "25%     22.000000   358.761812   369.037255   403.933511  \n",
       "50%     47.000000   750.787234   719.556908   737.401755  \n",
       "75%     76.000000  1092.726302  1133.751316  1090.111319  \n",
       "max     99.000000  1499.126271  1495.460940  1496.597411  \n",
       "\n",
       "[8 rows x 27 columns]"
      ]
     },
     "execution_count": 57,
     "metadata": {},
     "output_type": "execute_result"
    }
   ],
   "source": [
    "df.describe()"
   ]
  },
  {
   "cell_type": "code",
   "execution_count": 58,
   "metadata": {},
   "outputs": [
    {
     "data": {
      "text/plain": [
       "0    0.792\n",
       "1    0.208\n",
       "Name: flawed, dtype: float64"
      ]
     },
     "execution_count": 58,
     "metadata": {},
     "output_type": "execute_result"
    }
   ],
   "source": [
    "df.flawed.value_counts(normalize=True)"
   ]
  },
  {
   "cell_type": "code",
   "execution_count": 59,
   "metadata": {},
   "outputs": [],
   "source": [
    "X = df.drop(\"flawed\", axis=1)\n",
    "y = df[\"flawed\"]"
   ]
  },
  {
   "cell_type": "code",
   "execution_count": 60,
   "metadata": {},
   "outputs": [],
   "source": [
    "X_train, X_test, y_train, y_test = train_test_split(X, y, random_state=42)"
   ]
  },
  {
   "cell_type": "markdown",
   "metadata": {},
   "source": [
    "## Preprocessing\n",
    "\n",
    "First, remove missing values"
   ]
  },
  {
   "cell_type": "code",
   "execution_count": 61,
   "metadata": {},
   "outputs": [
    {
     "data": {
      "text/plain": [
       "A     0\n",
       "B    10\n",
       "C     0\n",
       "D     0\n",
       "E     0\n",
       "F     0\n",
       "G     0\n",
       "H     0\n",
       "I     0\n",
       "J     0\n",
       "K     0\n",
       "L     0\n",
       "M     0\n",
       "N     0\n",
       "O     0\n",
       "P     0\n",
       "Q     0\n",
       "R     0\n",
       "S     0\n",
       "T     0\n",
       "U     0\n",
       "V     0\n",
       "W     0\n",
       "X     0\n",
       "Y     0\n",
       "Z     0\n",
       "dtype: int64"
      ]
     },
     "execution_count": 61,
     "metadata": {},
     "output_type": "execute_result"
    }
   ],
   "source": [
    "X_train.isna().sum()"
   ]
  },
  {
   "cell_type": "code",
   "execution_count": 62,
   "metadata": {},
   "outputs": [
    {
     "data": {
      "text/plain": [
       "SimpleImputer()"
      ]
     },
     "execution_count": 62,
     "metadata": {},
     "output_type": "execute_result"
    }
   ],
   "source": [
    "imputer = SimpleImputer()\n",
    "imputer.fit(X_train)"
   ]
  },
  {
   "cell_type": "code",
   "execution_count": 63,
   "metadata": {},
   "outputs": [],
   "source": [
    "X_train = pd.DataFrame(imputer.transform(X_train), columns=X_train.columns)"
   ]
  },
  {
   "cell_type": "code",
   "execution_count": 64,
   "metadata": {},
   "outputs": [
    {
     "data": {
      "text/plain": [
       "A    0\n",
       "B    0\n",
       "C    0\n",
       "D    0\n",
       "E    0\n",
       "F    0\n",
       "G    0\n",
       "H    0\n",
       "I    0\n",
       "J    0\n",
       "K    0\n",
       "L    0\n",
       "M    0\n",
       "N    0\n",
       "O    0\n",
       "P    0\n",
       "Q    0\n",
       "R    0\n",
       "S    0\n",
       "T    0\n",
       "U    0\n",
       "V    0\n",
       "W    0\n",
       "X    0\n",
       "Y    0\n",
       "Z    0\n",
       "dtype: int64"
      ]
     },
     "execution_count": 64,
     "metadata": {},
     "output_type": "execute_result"
    }
   ],
   "source": [
    "X_train.isna().sum()"
   ]
  },
  {
   "cell_type": "markdown",
   "metadata": {},
   "source": [
    "Now that missing values are filled in, apply scaling"
   ]
  },
  {
   "cell_type": "code",
   "execution_count": 65,
   "metadata": {},
   "outputs": [
    {
     "data": {
      "text/plain": [
       "StandardScaler()"
      ]
     },
     "execution_count": 65,
     "metadata": {},
     "output_type": "execute_result"
    }
   ],
   "source": [
    "scaler = StandardScaler()\n",
    "scaler.fit(X_train)"
   ]
  },
  {
   "cell_type": "code",
   "execution_count": 66,
   "metadata": {},
   "outputs": [],
   "source": [
    "X_train = pd.DataFrame(scaler.transform(X_train), columns=X_train.columns)"
   ]
  },
  {
   "cell_type": "code",
   "execution_count": 67,
   "metadata": {},
   "outputs": [
    {
     "data": {
      "text/html": [
       "<div>\n",
       "<style scoped>\n",
       "    .dataframe tbody tr th:only-of-type {\n",
       "        vertical-align: middle;\n",
       "    }\n",
       "\n",
       "    .dataframe tbody tr th {\n",
       "        vertical-align: top;\n",
       "    }\n",
       "\n",
       "    .dataframe thead th {\n",
       "        text-align: right;\n",
       "    }\n",
       "</style>\n",
       "<table border=\"1\" class=\"dataframe\">\n",
       "  <thead>\n",
       "    <tr style=\"text-align: right;\">\n",
       "      <th></th>\n",
       "      <th>A</th>\n",
       "      <th>B</th>\n",
       "      <th>C</th>\n",
       "      <th>D</th>\n",
       "      <th>E</th>\n",
       "      <th>F</th>\n",
       "      <th>G</th>\n",
       "      <th>H</th>\n",
       "      <th>I</th>\n",
       "      <th>J</th>\n",
       "      <th>...</th>\n",
       "      <th>Q</th>\n",
       "      <th>R</th>\n",
       "      <th>S</th>\n",
       "      <th>T</th>\n",
       "      <th>U</th>\n",
       "      <th>V</th>\n",
       "      <th>W</th>\n",
       "      <th>X</th>\n",
       "      <th>Y</th>\n",
       "      <th>Z</th>\n",
       "    </tr>\n",
       "  </thead>\n",
       "  <tbody>\n",
       "    <tr>\n",
       "      <th>0</th>\n",
       "      <td>-0.182195</td>\n",
       "      <td>2.651329</td>\n",
       "      <td>2.307228</td>\n",
       "      <td>-1.330215</td>\n",
       "      <td>2.254339</td>\n",
       "      <td>-0.950211</td>\n",
       "      <td>-1.362018</td>\n",
       "      <td>-2.170987</td>\n",
       "      <td>0.159503</td>\n",
       "      <td>-0.407499</td>\n",
       "      <td>...</td>\n",
       "      <td>-0.764205</td>\n",
       "      <td>0.002598</td>\n",
       "      <td>0.057104</td>\n",
       "      <td>-0.935030</td>\n",
       "      <td>-0.210706</td>\n",
       "      <td>1.129001</td>\n",
       "      <td>-0.871019</td>\n",
       "      <td>-1.598601</td>\n",
       "      <td>-1.021046</td>\n",
       "      <td>1.671527</td>\n",
       "    </tr>\n",
       "    <tr>\n",
       "      <th>1</th>\n",
       "      <td>-0.740476</td>\n",
       "      <td>-0.872133</td>\n",
       "      <td>-1.371398</td>\n",
       "      <td>-0.411639</td>\n",
       "      <td>0.308575</td>\n",
       "      <td>-1.139487</td>\n",
       "      <td>0.085361</td>\n",
       "      <td>0.083841</td>\n",
       "      <td>-2.119116</td>\n",
       "      <td>0.160576</td>\n",
       "      <td>...</td>\n",
       "      <td>1.496621</td>\n",
       "      <td>0.741661</td>\n",
       "      <td>-1.036529</td>\n",
       "      <td>1.044788</td>\n",
       "      <td>1.192936</td>\n",
       "      <td>-0.869210</td>\n",
       "      <td>-0.027706</td>\n",
       "      <td>1.708830</td>\n",
       "      <td>0.574757</td>\n",
       "      <td>-0.871336</td>\n",
       "    </tr>\n",
       "    <tr>\n",
       "      <th>2</th>\n",
       "      <td>-2.025230</td>\n",
       "      <td>-0.630418</td>\n",
       "      <td>1.154322</td>\n",
       "      <td>-0.255331</td>\n",
       "      <td>-2.506833</td>\n",
       "      <td>-0.080195</td>\n",
       "      <td>-1.958433</td>\n",
       "      <td>1.840817</td>\n",
       "      <td>0.729158</td>\n",
       "      <td>1.296726</td>\n",
       "      <td>...</td>\n",
       "      <td>-0.216126</td>\n",
       "      <td>1.547913</td>\n",
       "      <td>1.468244</td>\n",
       "      <td>-0.205623</td>\n",
       "      <td>0.987525</td>\n",
       "      <td>1.129001</td>\n",
       "      <td>-0.061438</td>\n",
       "      <td>-1.490713</td>\n",
       "      <td>-0.943989</td>\n",
       "      <td>-0.811323</td>\n",
       "    </tr>\n",
       "    <tr>\n",
       "      <th>3</th>\n",
       "      <td>-0.636794</td>\n",
       "      <td>-0.141748</td>\n",
       "      <td>-0.953326</td>\n",
       "      <td>0.006883</td>\n",
       "      <td>-0.394256</td>\n",
       "      <td>-1.380725</td>\n",
       "      <td>-0.314150</td>\n",
       "      <td>-0.267118</td>\n",
       "      <td>0.159503</td>\n",
       "      <td>-0.407499</td>\n",
       "      <td>...</td>\n",
       "      <td>1.428111</td>\n",
       "      <td>-1.408342</td>\n",
       "      <td>0.656838</td>\n",
       "      <td>1.183722</td>\n",
       "      <td>-0.450352</td>\n",
       "      <td>-0.518647</td>\n",
       "      <td>-0.230101</td>\n",
       "      <td>0.698315</td>\n",
       "      <td>0.205386</td>\n",
       "      <td>-0.849349</td>\n",
       "    </tr>\n",
       "    <tr>\n",
       "      <th>4</th>\n",
       "      <td>-1.210566</td>\n",
       "      <td>-0.292733</td>\n",
       "      <td>-0.204884</td>\n",
       "      <td>0.606984</td>\n",
       "      <td>1.883967</td>\n",
       "      <td>0.680080</td>\n",
       "      <td>0.943868</td>\n",
       "      <td>0.269622</td>\n",
       "      <td>0.159503</td>\n",
       "      <td>0.728651</td>\n",
       "      <td>...</td>\n",
       "      <td>0.057914</td>\n",
       "      <td>1.413537</td>\n",
       "      <td>1.291851</td>\n",
       "      <td>1.183722</td>\n",
       "      <td>-0.895410</td>\n",
       "      <td>-0.413478</td>\n",
       "      <td>0.275887</td>\n",
       "      <td>1.362921</td>\n",
       "      <td>-0.467244</td>\n",
       "      <td>-1.651644</td>\n",
       "    </tr>\n",
       "  </tbody>\n",
       "</table>\n",
       "<p>5 rows × 26 columns</p>\n",
       "</div>"
      ],
      "text/plain": [
       "          A         B         C         D         E         F         G  \\\n",
       "0 -0.182195  2.651329  2.307228 -1.330215  2.254339 -0.950211 -1.362018   \n",
       "1 -0.740476 -0.872133 -1.371398 -0.411639  0.308575 -1.139487  0.085361   \n",
       "2 -2.025230 -0.630418  1.154322 -0.255331 -2.506833 -0.080195 -1.958433   \n",
       "3 -0.636794 -0.141748 -0.953326  0.006883 -0.394256 -1.380725 -0.314150   \n",
       "4 -1.210566 -0.292733 -0.204884  0.606984  1.883967  0.680080  0.943868   \n",
       "\n",
       "          H         I         J  ...         Q         R         S         T  \\\n",
       "0 -2.170987  0.159503 -0.407499  ... -0.764205  0.002598  0.057104 -0.935030   \n",
       "1  0.083841 -2.119116  0.160576  ...  1.496621  0.741661 -1.036529  1.044788   \n",
       "2  1.840817  0.729158  1.296726  ... -0.216126  1.547913  1.468244 -0.205623   \n",
       "3 -0.267118  0.159503 -0.407499  ...  1.428111 -1.408342  0.656838  1.183722   \n",
       "4  0.269622  0.159503  0.728651  ...  0.057914  1.413537  1.291851  1.183722   \n",
       "\n",
       "          U         V         W         X         Y         Z  \n",
       "0 -0.210706  1.129001 -0.871019 -1.598601 -1.021046  1.671527  \n",
       "1  1.192936 -0.869210 -0.027706  1.708830  0.574757 -0.871336  \n",
       "2  0.987525  1.129001 -0.061438 -1.490713 -0.943989 -0.811323  \n",
       "3 -0.450352 -0.518647 -0.230101  0.698315  0.205386 -0.849349  \n",
       "4 -0.895410 -0.413478  0.275887  1.362921 -0.467244 -1.651644  \n",
       "\n",
       "[5 rows x 26 columns]"
      ]
     },
     "execution_count": 67,
     "metadata": {},
     "output_type": "execute_result"
    }
   ],
   "source": [
    "X_train.head()"
   ]
  },
  {
   "cell_type": "markdown",
   "metadata": {},
   "source": [
    "## Modeling\n",
    "\n",
    "Now that the data has been prepared for modeling, let's try a `LogisticRegression` model with default parameters"
   ]
  },
  {
   "cell_type": "code",
   "execution_count": 68,
   "metadata": {},
   "outputs": [],
   "source": [
    "first_model = LogisticRegression(random_state=2020)"
   ]
  },
  {
   "cell_type": "markdown",
   "metadata": {},
   "source": [
    "Evaluate based on `recall_score`"
   ]
  },
  {
   "cell_type": "code",
   "execution_count": 69,
   "metadata": {},
   "outputs": [],
   "source": [
    "f1_scorer = make_scorer(f1_score)"
   ]
  },
  {
   "cell_type": "code",
   "execution_count": 70,
   "metadata": {},
   "outputs": [
    {
     "data": {
      "text/plain": [
       "array([0.78787879, 0.83870968, 0.73333333, 0.62068966, 0.66666667])"
      ]
     },
     "execution_count": 70,
     "metadata": {},
     "output_type": "execute_result"
    }
   ],
   "source": [
    "cross_val_score(first_model, X_train, y_train, scoring=f1_scorer)"
   ]
  },
  {
   "cell_type": "code",
   "execution_count": 71,
   "metadata": {},
   "outputs": [
    {
     "data": {
      "image/png": "[encoded data removed]",
      "text/plain": [
       "<Figure size 432x288 with 2 Axes>"
      ]
     },
     "metadata": {
      "needs_background": "light"
     },
     "output_type": "display_data"
    }
   ],
   "source": [
    "first_model.fit(X_train, y_train)\n",
    "plot_confusion_matrix(first_model, X_train, y_train);"
   ]
  },
  {
   "cell_type": "markdown",
   "metadata": {},
   "source": [
    "Try a different solver with L1 penalty"
   ]
  },
  {
   "cell_type": "code",
   "execution_count": 72,
   "metadata": {},
   "outputs": [],
   "source": [
    "second_model = LogisticRegression(solver=\"liblinear\", penalty=\"l1\", random_state=2020)"
   ]
  },
  {
   "cell_type": "code",
   "execution_count": 73,
   "metadata": {},
   "outputs": [
    {
     "data": {
      "text/plain": [
       "array([0.76470588, 0.86666667, 0.75      , 0.62068966, 0.71428571])"
      ]
     },
     "execution_count": 73,
     "metadata": {},
     "output_type": "execute_result"
    }
   ],
   "source": [
    "cross_val_score(second_model, X_train, y_train, scoring=f1_scorer)"
   ]
  },
  {
   "cell_type": "code",
   "execution_count": 74,
   "metadata": {},
   "outputs": [
    {
     "data": {
      "image/png": "[encoded data removed]",
      "text/plain": [
       "<Figure size 432x288 with 2 Axes>"
      ]
     },
     "metadata": {
      "needs_background": "light"
     },
     "output_type": "display_data"
    }
   ],
   "source": [
    "second_model.fit(X_train, y_train)\n",
    "plot_confusion_matrix(second_model, X_train, y_train);"
   ]
  },
  {
   "cell_type": "markdown",
   "metadata": {},
   "source": [
    "The second model performed better on the cross-validated data for 3/5 of the folds, and slightly worse on the training data.  This indicates that we are preventing some overfitting by switching to using an L1 penalty.  Therefore I choose the second model as my final model."
   ]
  },
  {
   "cell_type": "markdown",
   "metadata": {},
   "source": [
    "## Model Evaluation\n",
    "\n",
    "Now that I have a final model, I will demonstrate its performance on the test dataset"
   ]
  },
  {
   "cell_type": "code",
   "execution_count": 75,
   "metadata": {},
   "outputs": [],
   "source": [
    "X_test = pd.DataFrame(imputer.transform(X_test), columns=X_test.columns)\n",
    "X_test = pd.DataFrame(scaler.transform(X_test), columns=X_test.columns)"
   ]
  },
  {
   "cell_type": "code",
   "execution_count": 76,
   "metadata": {},
   "outputs": [
    {
     "data": {
      "text/plain": [
       "LogisticRegression(penalty='l1', solver='liblinear')"
      ]
     },
     "execution_count": 76,
     "metadata": {},
     "output_type": "execute_result"
    }
   ],
   "source": [
    "final_model = LogisticRegression(solver=\"liblinear\", penalty=\"l1\")\n",
    "final_model.fit(X_train, y_train)"
   ]
  },
  {
   "cell_type": "code",
   "execution_count": 79,
   "metadata": {},
   "outputs": [
    {
     "data": {
      "text/plain": [
       "0.8076923076923077"
      ]
     },
     "execution_count": 79,
     "metadata": {},
     "output_type": "execute_result"
    }
   ],
   "source": [
    "f1_score(y_test, final_model.predict(X_test))"
   ]
  },
  {
   "cell_type": "code",
   "execution_count": 80,
   "metadata": {},
   "outputs": [
    {
     "data": {
      "text/plain": [
       "0.84"
      ]
     },
     "execution_count": 80,
     "metadata": {},
     "output_type": "execute_result"
    }
   ],
   "source": [
    "recall_score(y_test, final_model.predict(X_test))"
   ]
  },
  {
   "cell_type": "code",
   "execution_count": 78,
   "metadata": {},
   "outputs": [
    {
     "data": {
      "text/plain": [
       "array([[94,  6],\n",
       "       [ 4, 21]])"
      ]
     },
     "execution_count": 78,
     "metadata": {},
     "output_type": "execute_result"
    }
   ],
   "source": [
    "confusion_matrix(y_test, final_model.predict(X_test))"
   ]
  },
  {
   "cell_type": "code",
   "execution_count": 53,
   "metadata": {},
   "outputs": [
    {
     "data": {
      "text/plain": [
       "0    100\n",
       "1     25\n",
       "Name: flawed, dtype: int64"
      ]
     },
     "execution_count": 53,
     "metadata": {},
     "output_type": "execute_result"
    }
   ],
   "source": [
    "y_test.value_counts()"
   ]
  },
  {
   "cell_type": "markdown",
   "metadata": {},
   "source": [
    "The f1 score of our final model is 0.81 which indicates that the model is performing moderately well on both precision and recall. The recall score of our final model is 0.84, which means that we are correctly flagging 84% of the parts with manufacturing flaws.  So, for the test set, that would mean that we correctly flagged 21 of the 24 flawed parts.  Assuming the previous baseline was 0%, this is a substantial improvement, and I recommend putting this model into production."
   ]
  },
  {
   "cell_type": "code",
   "execution_count": 89,
   "metadata": {},
   "outputs": [
    {
     "data": {
      "text/plain": [
       "{'A': 0.23371626842234144,\n",
       " 'B': -0.2190914245429601,\n",
       " 'C': -0.47137677989303495,\n",
       " 'D': -0.6019961922836139,\n",
       " 'E': 2.6976459889651547,\n",
       " 'F': 0.367819602349197,\n",
       " 'G': -0.9302402645306672,\n",
       " 'H': -0.2324573632008139,\n",
       " 'I': -0.011219343498442365,\n",
       " 'J': 0.35588268350772023,\n",
       " 'K': 0.015518539135526043,\n",
       " 'L': 0.09468759433571373,\n",
       " 'M': 0.03629344877661394,\n",
       " 'N': -0.006283223162228509,\n",
       " 'O': 0.1290554314927846,\n",
       " 'P': 0.27423697968030225,\n",
       " 'Q': 0.0,\n",
       " 'R': 0.14034949802649305,\n",
       " 'S': 0.04288598271703693,\n",
       " 'T': 0.1861908030334729,\n",
       " 'U': -0.797935394805448,\n",
       " 'V': -0.15290435489597454,\n",
       " 'W': -0.24891444555341652,\n",
       " 'X': -0.24705631436960077,\n",
       " 'Y': 0.0,\n",
       " 'Z': 0.0682534866257052}"
      ]
     },
     "execution_count": 89,
     "metadata": {},
     "output_type": "execute_result"
    }
   ],
   "source": [
    "dict(zip(X_train.columns, final_model.coef_[0]))"
   ]
  },
  {
   "cell_type": "markdown",
   "metadata": {},
   "source": [
    "The smaller the magnitude of the coefficient, the less impact the feature has on our predictions.  The coefficients for feature `'Q'` and feature `'Y'` have been reduced to zero by regularization, meaning they have no impact on the current predictions, so those would be good candidates to no longer be collected."
   ]
  },
  {
   "cell_type": "markdown",
   "metadata": {},
   "source": [
    "## Bonus: More Complex Models"
   ]
  },
  {
   "cell_type": "code",
   "execution_count": 90,
   "metadata": {},
   "outputs": [
    {
     "data": {
      "text/plain": [
       "array([0.76470588, 0.86666667, 0.75      , 0.62068966, 0.71428571])"
      ]
     },
     "execution_count": 90,
     "metadata": {},
     "output_type": "execute_result"
    }
   ],
   "source": [
    "logreg_scores = cross_val_score(final_model, X_train, y_train, scoring=f1_scorer)\n",
    "logreg_scores"
   ]
  },
  {
   "cell_type": "code",
   "execution_count": 91,
   "metadata": {},
   "outputs": [
    {
     "data": {
      "text/plain": [
       "array([0.82758621, 0.74074074, 0.81481481, 0.68965517, 0.72      ])"
      ]
     },
     "execution_count": 91,
     "metadata": {},
     "output_type": "execute_result"
    }
   ],
   "source": [
    "random_forest = RandomForestClassifier()\n",
    "rfc_scores = cross_val_score(random_forest, X_train, y_train, scoring=f1_scorer)\n",
    "rfc_scores"
   ]
  },
  {
   "cell_type": "code",
   "execution_count": 92,
   "metadata": {},
   "outputs": [
    {
     "data": {
      "text/plain": [
       "array([0.66666667, 0.66666667, 0.47619048, 0.45454545, 0.43478261])"
      ]
     },
     "execution_count": 92,
     "metadata": {},
     "output_type": "execute_result"
    }
   ],
   "source": [
    "knn = KNeighborsClassifier()\n",
    "knn_scores = cross_val_score(knn, X_train, y_train, scoring=f1_scorer)\n",
    "knn_scores"
   ]
  },
  {
   "cell_type": "markdown",
   "metadata": {},
   "source": [
    "The Random Forest Classifier model performs better than our final Logistic Regression model on 4/5 cross validated folds. So I choose the Random Forest Model and the final model."
   ]
  },
  {
   "cell_type": "code",
   "execution_count": 93,
   "metadata": {},
   "outputs": [
    {
     "data": {
      "text/plain": [
       "0.8636363636363636"
      ]
     },
     "execution_count": 93,
     "metadata": {},
     "output_type": "execute_result"
    }
   ],
   "source": [
    "random_forest.fit(X_train, y_train)\n",
    "preds = random_forest.predict(X_test)\n",
    "f1_score(y_test, preds)"
   ]
  },
  {
   "cell_type": "code",
   "execution_count": 94,
   "metadata": {},
   "outputs": [
    {
     "data": {
      "text/plain": [
       "0.76"
      ]
     },
     "execution_count": 94,
     "metadata": {},
     "output_type": "execute_result"
    }
   ],
   "source": [
    "recall_score(y_test, preds)"
   ]
  },
  {
   "cell_type": "code",
   "execution_count": 95,
   "metadata": {},
   "outputs": [
    {
     "data": {
      "text/plain": [
       "array([[100,   0],\n",
       "       [  6,  19]])"
      ]
     },
     "execution_count": 95,
     "metadata": {},
     "output_type": "execute_result"
    }
   ],
   "source": [
    "confusion_matrix(y_test, random_forest.predict(X_test))"
   ]
  },
  {
   "cell_type": "markdown",
   "metadata": {},
   "source": [
    "This model performance may not be optimal for my employer's needs. While this model has a higher f1_score, the random forest model has a recall score 8% points lower than final Logistic Regression Model. This model appears to be overfit on the `0` class of these data. Future work could involve adjusting parameters for the Random Forest model to improve performance on the `1` class. "
   ]
  }
 ],
 "metadata": {
  "kernelspec": {
   "display_name": "mlearn",
   "language": "python",
   "name": "mlearn"
  },
  "language_info": {
   "codemirror_mode": {
    "name": "ipython",
    "version": 3
   },
   "file_extension": ".py",
   "mimetype": "text/x-python",
   "name": "python",
   "nbconvert_exporter": "python",
   "pygments_lexer": "ipython3",
   "version": "3.7.7"
  }
 },
 "nbformat": 4,
 "nbformat_minor": 4
}
